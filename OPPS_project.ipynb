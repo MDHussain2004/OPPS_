{
  "nbformat": 4,
  "nbformat_minor": 0,
  "metadata": {
    "colab": {
      "provenance": [],
      "authorship_tag": "ABX9TyMrSmNJ47Ha3Ma/QnUH0h9d",
      "include_colab_link": true
    },
    "kernelspec": {
      "name": "python3",
      "display_name": "Python 3"
    },
    "language_info": {
      "name": "python"
    }
  },
  "cells": [
    {
      "cell_type": "markdown",
      "metadata": {
        "id": "view-in-github",
        "colab_type": "text"
      },
      "source": [
        "<a href=\"https://colab.research.google.com/github/MDHussain2004/OPPS_/blob/main/OPPS_project.ipynb\" target=\"_parent\"><img src=\"https://colab.research.google.com/assets/colab-badge.svg\" alt=\"Open In Colab\"/></a>"
      ]
    },
    {
      "cell_type": "code",
      "execution_count": 1,
      "metadata": {
        "colab": {
          "base_uri": "https://localhost:8080/",
          "height": 123
        },
        "id": "rmgEq4iQ2IYM",
        "outputId": "d0f4ef62-b8c0-41e7-e0e5-f9989a333f99"
      },
      "outputs": [
        {
          "output_type": "execute_result",
          "data": {
            "text/plain": [
              "'The five key concepts of Object-Oriented Programming (OOP) are:\\n\\n1. Encapsulation:\\nEncapsulation refers to bundling the data (attributes) and methods (functions) that operate on the data into a single unit, called a class. \\nIt also restricts direct access to some of the object\\'s components, which is known as data hiding. This ensures that the internal state of \\nan object can only be changed through well-defined methods.\\nExample: In a BankAccount class, balance data may be private, and access to it is controlled through methods like deposit() and withdraw().\\n2. Abstraction:\\nAbstraction is the concept of hiding the complex implementation details and showing only the essential features of an object. This makes the\\nprogram simpler to use and maintain by focusing on what an object does rather than how it does it.\\nExample: A Car class may provide a start() method that abstracts the complex internal workings of the engine, making it easy for the user to \\nstart the car without knowing its inner mechanics.\\n3. Inheritance:\\nInheritance allows one class (child or subclass) to inherit attributes and methods from another class (parent or superclass). It promotes code \\nreusability and allows the creation of hierarchical relationships between classes.\\nExample: A Vehicle class could be inherited by Car, Bike, and Truck classes, allowing each to use common properties like speed and fuel, while \\nalso defining their specific behaviors.\\n4. Polymorphism:\\nPolymorphism means \"many forms\" and refers to the ability of different classes to be treated as instances of the same class through a common \\ninterface. The same method can perform different functions based on the object that is calling it.\\nExample: A method move() might behave differently for a Car object (driving) and a Bird object (flying), but both can be called using the same interface.\\n5. Class and Object (or Objects):\\nA class is a blueprint for creating objects (instances), defining the properties (attributes) and behaviors (methods) that the objects will have. \\nAn object is an instance of a class, representing a real-world entity with state and behavior.\\nExample: A class Dog defines attributes like name, breed, and age, and behaviors like bark() and run(). An object my_dog = Dog(\\'Max\\', \\'Labrador\\', 5) \\nwould be an instance of this class.\\nThese concepts work together to create scalable, reusable, and maintainable code in OOP.\\n'"
            ],
            "application/vnd.google.colaboratory.intrinsic+json": {
              "type": "string"
            }
          },
          "metadata": {},
          "execution_count": 1
        }
      ],
      "source": [
        "# QUESTION 1\n",
        "#What are the five key concepts of Object-Oriented Programming (OOP)?\n",
        "\n",
        "'''The five key concepts of Object-Oriented Programming (OOP) are:\n",
        "\n",
        "1. Encapsulation:\n",
        "Encapsulation refers to bundling the data (attributes) and methods (functions) that operate on the data into a single unit, called a class.\n",
        "It also restricts direct access to some of the object's components, which is known as data hiding. This ensures that the internal state of\n",
        "an object can only be changed through well-defined methods.\n",
        "Example: In a BankAccount class, balance data may be private, and access to it is controlled through methods like deposit() and withdraw().\n",
        "2. Abstraction:\n",
        "Abstraction is the concept of hiding the complex implementation details and showing only the essential features of an object. This makes the\n",
        "program simpler to use and maintain by focusing on what an object does rather than how it does it.\n",
        "Example: A Car class may provide a start() method that abstracts the complex internal workings of the engine, making it easy for the user to\n",
        "start the car without knowing its inner mechanics.\n",
        "3. Inheritance:\n",
        "Inheritance allows one class (child or subclass) to inherit attributes and methods from another class (parent or superclass). It promotes code\n",
        "reusability and allows the creation of hierarchical relationships between classes.\n",
        "Example: A Vehicle class could be inherited by Car, Bike, and Truck classes, allowing each to use common properties like speed and fuel, while\n",
        "also defining their specific behaviors.\n",
        "4. Polymorphism:\n",
        "Polymorphism means \"many forms\" and refers to the ability of different classes to be treated as instances of the same class through a common\n",
        "interface. The same method can perform different functions based on the object that is calling it.\n",
        "Example: A method move() might behave differently for a Car object (driving) and a Bird object (flying), but both can be called using the same interface.\n",
        "5. Class and Object (or Objects):\n",
        "A class is a blueprint for creating objects (instances), defining the properties (attributes) and behaviors (methods) that the objects will have.\n",
        "An object is an instance of a class, representing a real-world entity with state and behavior.\n",
        "Example: A class Dog defines attributes like name, breed, and age, and behaviors like bark() and run(). An object my_dog = Dog('Max', 'Labrador', 5)\n",
        "would be an instance of this class.\n",
        "These concepts work together to create scalable, reusable, and maintainable code in OOP.\n",
        "'''"
      ]
    },
    {
      "cell_type": "code",
      "source": [
        "# QUESTION 2\n",
        "#. Write a Python class for a `Car` with attributes for `make`, `model`, and `year`. Include a method to display the car's information.\n",
        "\n",
        "class Car:\n",
        "    def __init__(self, make, model, year):\n",
        "        self.make = make\n",
        "        self.model = model\n",
        "        self.year = year\n",
        "\n",
        "    def display_info(self):\n",
        "        print(f\"Make: {self.make}\\nModel: {self.model}\\nYear: {self.year}\")"
      ],
      "metadata": {
        "id": "PI3QqHD_3t11"
      },
      "execution_count": 2,
      "outputs": []
    },
    {
      "cell_type": "code",
      "source": [
        "car1 = Car(\"Toyota\", \"Camry\", 2022)\n",
        "car1.display_info()\n"
      ],
      "metadata": {
        "colab": {
          "base_uri": "https://localhost:8080/"
        },
        "id": "eBZmGpCD4Dk6",
        "outputId": "909fb5a7-0081-4b65-93de-711bb28287af"
      },
      "execution_count": 3,
      "outputs": [
        {
          "output_type": "stream",
          "name": "stdout",
          "text": [
            "Make: Toyota\n",
            "Model: Camry\n",
            "Year: 2022\n"
          ]
        }
      ]
    },
    {
      "cell_type": "code",
      "source": [
        "# QUESTION 3\n",
        "#Explain the difference between instance methods and class methods. Provide an example of each.\n",
        "\n",
        "'''In Object-Oriented Programming, instance methods and class methods are two types of methods defined in a class. They differ in how they operate and the data they work with.\n",
        "\n",
        "1. Instance Methods:\n",
        "Definition: Instance methods are functions that operate on individual instances (objects) of a class. They have access to instance-specific data (attributes) and are defined with self as their first parameter, which refers to the current object.\n",
        "Usage: These methods can access and modify the state of a specific object.\n",
        "Example:\n",
        "'''\n",
        "class Dog:\n",
        "    def __init__(self, name, age):\n",
        "        self.name = name\n",
        "        self.age = age\n",
        "\n",
        "    # Instance method\n",
        "    def bark(self):\n",
        "        return f\"{self.name} is barking!\"\n",
        "\n",
        "# Creating an instance of Dog\n",
        "my_dog = Dog(\"Max\", 5)\n",
        "\n",
        "# Calling an instance method\n",
        "print(my_dog.bark())  # Output: Max is barking!\n",
        "\n",
        "#In this example, bark() is an instance method because it operates on the specific instance my_dog and uses the instance variable self.name.\n",
        "'''\n",
        "2. Class Methods:\n",
        "Definition: Class methods operate on the class itself rather than on individual instances. They are defined with @classmethod decorator and take cls as their first parameter, which refers to the class itself (not the instance).\n",
        "Usage: Class methods are often used to create factory methods, update or access class-level attributes, and implement behavior that affects the class as a whole.\n",
        "Example:\n",
        "'''\n",
        "\n",
        "class Dog:\n",
        "    species = \"Canis lupus familiaris\"  # Class attribute\n",
        "\n",
        "    def __init__(self, name, age):\n",
        "        self.name = name\n",
        "        self.age = age\n",
        "\n",
        "    # Class method\n",
        "    @classmethod\n",
        "    def get_species(cls):\n",
        "        return f\"The species of this class is {cls.species}.\"\n",
        "\n",
        "# Calling a class method\n",
        "print(Dog.get_species())  # Output: The species of this class is Canis lupus familiaris\n",
        "\n",
        "#In this example, get_species() is a class method because it works with the class-level attribute species and can be called without creating an instance of Dog.\n",
        "'''\n",
        "Key Differences:\n",
        "Instance Methods:\n",
        "Operate on individual instances of a class.\n",
        "Use self to access instance-specific data.\n",
        "Can access and modify both instance attributes and class attributes.\n",
        "Class Methods:\n",
        "Operate on the class itself.\n",
        "Use cls to access class-level data.\n",
        "Cannot modify instance-specific data but can modify class attributes.\n",
        "'''"
      ],
      "metadata": {
        "colab": {
          "base_uri": "https://localhost:8080/",
          "height": 88
        },
        "id": "t_ZZdBLZ4IOn",
        "outputId": "89828854-0c05-49db-dcf3-d990612ff219"
      },
      "execution_count": 4,
      "outputs": [
        {
          "output_type": "stream",
          "name": "stdout",
          "text": [
            "Max is barking!\n",
            "The species of this class is Canis lupus familiaris.\n"
          ]
        },
        {
          "output_type": "execute_result",
          "data": {
            "text/plain": [
              "'\\nKey Differences:\\nInstance Methods:\\nOperate on individual instances of a class.\\nUse self to access instance-specific data.\\nCan access and modify both instance attributes and class attributes.\\nClass Methods:\\nOperate on the class itself.\\nUse cls to access class-level data.\\nCannot modify instance-specific data but can modify class attributes.\\n'"
            ],
            "application/vnd.google.colaboratory.intrinsic+json": {
              "type": "string"
            }
          },
          "metadata": {},
          "execution_count": 4
        }
      ]
    },
    {
      "cell_type": "code",
      "source": [
        "# QUESTION 4\n",
        "#  How does Python implement method overloading? Give an example.\n",
        "'''\n",
        "Python does not natively support method overloading in the same way as languages like Java or C++. Method overloading refers to the ability to define multiple methods with the same name but different argument types or numbers. However, Python achieves similar behavior through other techniques, such as using default arguments, variable-length arguments, or manually checking the types and number of arguments inside a method.\n",
        "\n",
        "Common ways to simulate method overloading in Python:\n",
        "Using default arguments:\n",
        "\n",
        "You can define a method with default argument values to allow different numbers of arguments.\n",
        "Using *args and **kwargs:\n",
        "\n",
        "These special syntax elements allow methods to accept a variable number of positional and keyword arguments, letting you handle different cases inside a single method.\n",
        "Using type checks within the method:\n",
        "\n",
        "You can manually check the types or number of arguments inside a method and adjust the behavior accordingly.\n",
        "Example 1: Method overloading using default arguments'''\n",
        "\n",
        "class MathOperations:\n",
        "    def add(self, a, b=0, c=0):\n",
        "        return a + b + c\n",
        "\n",
        "# Creating an instance of MathOperations\n",
        "math_op = MathOperations()\n",
        "\n",
        "# Calling the same method with different numbers of arguments\n",
        "print(math_op.add(5))          # Output: 5 (adds only 5 + 0)\n",
        "print(math_op.add(5, 10))      # Output: 15 (adds 5 + 10)\n",
        "print(math_op.add(5, 10, 15))  # Output: 30 (adds 5 + 10 + 15)\n",
        "\n",
        "#In this example, the method add can be called with different numbers of arguments, and default values are used when fewer arguments are provided.\n",
        "\n",
        "#Example 2: Method overloading using *args\n",
        "\n",
        "class MathOperations:\n",
        "    def add(self, *args):\n",
        "        return sum(args)\n",
        "\n",
        "# Creating an instance of MathOperations\n",
        "math_op = MathOperations()\n",
        "\n",
        "# Calling the same method with a variable number of arguments\n",
        "print(math_op.add(5))               # Output: 5\n",
        "print(math_op.add(5, 10))           # Output: 15\n",
        "print(math_op.add(5, 10, 15))       # Output: 30\n",
        "print(math_op.add(5, 10, 15, 20))   # Output: 50\n",
        "\n",
        "#In this case, the add method accepts any number of arguments using *args, which allows overloading-like behavior.\n",
        "\n",
        "#Example 3: Using type checks inside the method\n",
        "class MathOperations:\n",
        "    def add(self, a, b=None):\n",
        "        if b is not None:\n",
        "            return a + b  # Two arguments\n",
        "        else:\n",
        "            return a      # Only one argument\n",
        "\n",
        "# Creating an instance of MathOperations\n",
        "math_op = MathOperations()\n",
        "\n",
        "# Calling the same method with different numbers of arguments\n",
        "print(math_op.add(5))        # Output: 5 (single argument)\n",
        "print(math_op.add(5, 10))    # Output: 15 (two arguments)\n",
        "\n",
        "#Here, the add method behaves differently depending on whether one or two arguments are passed. This is a basic form of manual method overloading.\n"
      ],
      "metadata": {
        "colab": {
          "base_uri": "https://localhost:8080/"
        },
        "id": "L89f0Jv85kGV",
        "outputId": "2d55fa76-f266-4e1f-f412-cea07c10ed4c"
      },
      "execution_count": 5,
      "outputs": [
        {
          "output_type": "stream",
          "name": "stdout",
          "text": [
            "5\n",
            "15\n",
            "30\n",
            "5\n",
            "15\n",
            "30\n",
            "50\n",
            "5\n",
            "15\n"
          ]
        }
      ]
    },
    {
      "cell_type": "code",
      "source": [
        "# QUESTION 5\n",
        "#  What are the three types of access modifiers in Python? How are they denoted?\n",
        "'''\n",
        "In Python, access modifiers control the visibility and accessibility of class attributes and methods. While Python does not enforce strict access control as in some other languages like Java or C++, it provides naming conventions to suggest the level of access. There are three types of access modifiers in Python:\n",
        "\n",
        "1. Public:\n",
        "Denoted by: No special prefix.\n",
        "Access level: Public attributes and methods can be accessed from anywhere, both inside and outside the class.\n",
        "Usage: By default, all attributes and methods in Python are public.\n",
        "'''\n",
        "#Example:\n",
        "class Employee:\n",
        "    def __init__(self, name, salary):\n",
        "        self.name = name         # Public attribute\n",
        "        self.salary = salary      # Public attribute\n",
        "\n",
        "    def show_info(self):          # Public method\n",
        "        return f\"Name: {self.name}, Salary: {self.salary}\"\n",
        "\n",
        "emp = Employee(\"Alice\", 50000)\n",
        "print(emp.name)  # Accessing public attribute\n",
        "print(emp.show_info())  # Accessing public method\n",
        "\n",
        "#In this example, name, salary, and show_info() are public and can be accessed both inside and outside the class.\n",
        "'''\n",
        "2. Protected:\n",
        "Denoted by: A single leading underscore (_).\n",
        "Access level: Protected attributes and methods are intended for internal use within the class and its subclasses. However, they can still be accessed outside the class, as Python does not enforce true protection (it's more of a convention).\n",
        "Usage: By convention, attributes or methods starting with a single underscore are treated as protected.\n",
        "'''\n",
        "#Example:\n",
        "\n",
        "class Employee:\n",
        "    def __init__(self, name, salary):\n",
        "        self._name = name         # Protected attribute\n",
        "        self._salary = salary      # Protected attribute\n",
        "\n",
        "    def _show_info(self):          # Protected method\n",
        "        return f\"Name: {self._name}, Salary: {self._salary}\"\n",
        "\n",
        "emp = Employee(\"Alice\", 50000)\n",
        "print(emp._name)  # Accessing protected attribute (though it's discouraged)\n",
        "print(emp._show_info())  # Accessing protected method (discouraged)\n",
        "\n",
        "#In this example, _name, _salary, and _show_info() are protected by convention, meaning they are not meant to be accessed outside the class, but Python allows it.\n",
        "'''\n",
        "3. Private:\n",
        "Denoted by: A double leading underscore (__).\n",
        "Access level: Private attributes and methods are restricted to the class in which they are defined. They cannot be accessed directly from outside the class. Python achieves this by name-mangling, where it changes the name of the private attribute/method to include the class name.\n",
        "Usage: Private attributes or methods are intended to be completely hidden from outside access.\n",
        "'''\n",
        "#Example:\n",
        "class Employee:\n",
        "    def __init__(self, name, salary):\n",
        "        self.__name = name         # Private attribute\n",
        "        self.__salary = salary      # Private attribute\n",
        "\n",
        "    def __show_info(self):          # Private method\n",
        "        return f\"Name: {self.__name}, Salary: {self.__salary}\"\n",
        "\n",
        "    def public_method(self):\n",
        "        return self.__show_info()   # Accessing private method within the class\n",
        "\n",
        "emp = Employee(\"Alice\", 50000)\n",
        "# print(emp.__name)  # Raises an AttributeError: can't access private attribute directly\n",
        "# print(emp.__show_info())  # Raises an AttributeError: can't access private method directly\n",
        "print(emp.public_method())  # Works because it's accessed from within the class\n",
        "\n",
        "#In this example, __name, __salary, and __show_info() are private. They cannot be accessed directly outside the class, but they can still be accessed via other public methods within the class."
      ],
      "metadata": {
        "colab": {
          "base_uri": "https://localhost:8080/"
        },
        "id": "D0YZlpvL6TAw",
        "outputId": "4976c0da-384f-4fd5-8153-ce4d53cd5a97"
      },
      "execution_count": 6,
      "outputs": [
        {
          "output_type": "stream",
          "name": "stdout",
          "text": [
            "Alice\n",
            "Name: Alice, Salary: 50000\n",
            "Alice\n",
            "Name: Alice, Salary: 50000\n",
            "Name: Alice, Salary: 50000\n"
          ]
        }
      ]
    },
    {
      "cell_type": "code",
      "source": [
        "# QUESTION 6\n",
        "# Describe the five types of inheritance in Python. Provide a simple example of multiple inheritance.\n",
        "'''\n",
        "In Python, inheritance allows one class (child or subclass) to inherit attributes and methods from another class (parent or superclass). Python supports five types of inheritance:\n",
        "\n",
        "1. Single Inheritance:\n",
        "In single inheritance, a subclass inherits from one superclass.\n",
        "'''\n",
        "class Animal:\n",
        "    def speak(self):\n",
        "        return \"Animal sound\"\n",
        "\n",
        "class Dog(Animal):  # Single inheritance\n",
        "    def speak(self):\n",
        "        return \"Bark\"\n",
        "\n",
        "d = Dog()\n",
        "print(d.speak())  # Output: Bark\n",
        "'''\n",
        "2. Multiple Inheritance:\n",
        "In multiple inheritance, a subclass inherits from more than one superclass.\n",
        "'''\n",
        "class A:\n",
        "    def feature1(self):\n",
        "        return \"Feature 1 from Class A\"\n",
        "\n",
        "class B:\n",
        "    def feature2(self):\n",
        "        return \"Feature 2 from Class B\"\n",
        "\n",
        "class C(A, B):  # Multiple inheritance\n",
        "    pass\n",
        "\n",
        "obj = C()\n",
        "print(obj.feature1())  # Output: Feature 1 from Class A\n",
        "print(obj.feature2())  # Output: Feature 2 from Class B\n",
        "'''\n",
        "3. Multilevel Inheritance:\n",
        "In multilevel inheritance, a class inherits from a subclass, creating a chain of inheritance.\n",
        "'''\n",
        "class Animal:\n",
        "    def speak(self):\n",
        "        return \"Animal sound\"\n",
        "\n",
        "class Dog(Animal):  # Inherits from Animal\n",
        "    def bark(self):\n",
        "        return \"Bark\"\n",
        "\n",
        "class Puppy(Dog):  # Inherits from Dog (which inherits from Animal)\n",
        "    def play(self):\n",
        "        return \"Playful puppy\"\n",
        "\n",
        "p = Puppy()\n",
        "print(p.speak())  # Output: Animal sound\n",
        "print(p.bark())   # Output: Bark\n",
        "print(p.play())   # Output: Playful puppy\n",
        "'''\n",
        "4. Hierarchical Inheritance:\n",
        "In hierarchical inheritance, multiple subclasses inherit from a single superclass.\n",
        "'''\n",
        "class Animal:\n",
        "    def speak(self):\n",
        "        return \"Animal sound\"\n",
        "\n",
        "class Dog(Animal):  # Inherits from Animal\n",
        "    def bark(self):\n",
        "        return \"Bark\"\n",
        "\n",
        "class Cat(Animal):  # Also inherits from Animal\n",
        "    def meow(self):\n",
        "        return \"Meow\"\n",
        "\n",
        "d = Dog()\n",
        "c = Cat()\n",
        "print(d.speak())  # Output: Animal sound\n",
        "print(d.bark())   # Output: Bark\n",
        "print(c.speak())  # Output: Animal sound\n",
        "print(c.meow())   # Output: Meow\n",
        "'''\n",
        "5. Hybrid Inheritance:\n",
        "Hybrid inheritance is a combination of more than one type of inheritance (e.g., combining multiple and hierarchical inheritance).\n",
        "Example: A class might be part of both multiple inheritance and hierarchical inheritance simultaneously, leading to hybrid inheritance.\n",
        "Example of Multiple Inheritance:\n",
        "Multiple inheritance allows a class to inherit features from more than one parent class.\n",
        "'''\n",
        "class Father:\n",
        "    def skill1(self):\n",
        "        return \"Driving\"\n",
        "\n",
        "class Mother:\n",
        "    def skill2(self):\n",
        "        return \"Cooking\"\n",
        "\n",
        "class Child(Father, Mother):  # Inherits from both Father and Mother\n",
        "    pass\n",
        "\n",
        "c = Child()\n",
        "print(c.skill1())  # Output: Driving\n",
        "print(c.skill2())  # Output: Cooking\n",
        "#In this example, Child inherits the methods skill1 from Father and skill2 from Mother, demonstrating multiple inheritance."
      ],
      "metadata": {
        "colab": {
          "base_uri": "https://localhost:8080/"
        },
        "id": "VSKshdFy7StY",
        "outputId": "50232e89-2b92-4b0b-db62-e7b864952343"
      },
      "execution_count": 7,
      "outputs": [
        {
          "output_type": "stream",
          "name": "stdout",
          "text": [
            "Bark\n",
            "Feature 1 from Class A\n",
            "Feature 2 from Class B\n",
            "Animal sound\n",
            "Bark\n",
            "Playful puppy\n",
            "Animal sound\n",
            "Bark\n",
            "Animal sound\n",
            "Meow\n",
            "Driving\n",
            "Cooking\n"
          ]
        }
      ]
    },
    {
      "cell_type": "code",
      "source": [
        "# QUESTION 7\n",
        "# What is the Method Resolution Order (MRO) in Python? How can you retrieve it programmatically?\n",
        "'''\n",
        "What is Method Resolution Order (MRO) in Python?\n",
        "The Method Resolution Order (MRO) in Python defines the order in which a method is searched for in a hierarchy of classes when it is called. Specifically, it determines the sequence in which Python looks through base classes to resolve method or attribute references in the case of multiple inheritance.\n",
        "\n",
        "Python uses the C3 linearization algorithm (also known as the C3 superclass linearization) to compute the MRO, which ensures that the method search respects the hierarchy of base classes in a consistent and predictable manner.\n",
        "\n",
        "Key Characteristics of MRO:\n",
        "Left-to-right: MRO starts searching from the class itself, then moves to the first base class, then to the next, and so on.\n",
        "Depth-first: Python tries to resolve methods in a depth-first, left-to-right manner.\n",
        "Respecting inheritance order: The order of inheritance affects the MRO in the case of multiple inheritance.\n",
        "Example of MRO:\n",
        "'''\n",
        "class A:\n",
        "    def method(self):\n",
        "        print(\"Method in A\")\n",
        "\n",
        "class B(A):\n",
        "    def method(self):\n",
        "        print(\"Method in B\")\n",
        "\n",
        "class C(A):\n",
        "    def method(self):\n",
        "        print(\"Method in C\")\n",
        "\n",
        "class D(B, C):  # Multiple inheritance\n",
        "    pass\n",
        "\n",
        "d = D()\n",
        "d.method()  # Output: Method in B\n",
        "#In this example, class D inherits from both B and C. When d.method() is called, the method resolution order will determine that method() in class B is invoked before checking class C.\n",
        "'''\n",
        "How to Retrieve MRO Programmatically\n",
        "You can retrieve the MRO of a class using:\n",
        "\n",
        "ClassName.mro(): This method returns a list showing the MRO of the class.\n",
        "\n",
        "ClassName.__mro__: This is an attribute that stores the MRO as a tuple.\n",
        "\n",
        "Example of retrieving MRO:\n",
        "'''\n",
        "class A:\n",
        "    pass\n",
        "\n",
        "class B(A):\n",
        "    pass\n",
        "\n",
        "class C(A):\n",
        "    pass\n",
        "\n",
        "class D(B, C):\n",
        "    pass\n",
        "\n",
        "# Using mro() method\n",
        "print(D.mro())  # Output: [<class '__main__.D'>, <class '__main__.B'>, <class '__main__.C'>, <class '__main__.A'>, <class 'object'>]\n",
        "\n",
        "# Using __mro__ attribute\n",
        "print(D.__mro__)  # Output: (<class '__main__.D'>, <class '__main__.B'>, <class '__main__.C'>, <class '__main__.A'>, <class 'object'>)\n",
        "'''\n",
        "MRO Output Explanation:\n",
        "<class '__main__.D'>: First, the method is searched in the class D.\n",
        "<class '__main__.B'>: If not found, it moves to class B (the first parent class).\n",
        "<class '__main__.C'>: If not found in B, it moves to C.\n",
        "<class '__main__.A'>: Finally, it checks class A (the base class for both B and C).\n",
        "<class 'object'>: If the method is not found in any of the user-defined classes, Python checks the base object class, which is the root class for all Python classes.'''\n"
      ],
      "metadata": {
        "colab": {
          "base_uri": "https://localhost:8080/",
          "height": 122
        },
        "id": "7UrCt3I18FS2",
        "outputId": "274fd0e1-c529-462f-d7e1-59cc81163281"
      },
      "execution_count": 8,
      "outputs": [
        {
          "output_type": "stream",
          "name": "stdout",
          "text": [
            "Method in B\n",
            "[<class '__main__.D'>, <class '__main__.B'>, <class '__main__.C'>, <class '__main__.A'>, <class 'object'>]\n",
            "(<class '__main__.D'>, <class '__main__.B'>, <class '__main__.C'>, <class '__main__.A'>, <class 'object'>)\n"
          ]
        },
        {
          "output_type": "execute_result",
          "data": {
            "text/plain": [
              "\"\\nMRO Output Explanation:\\n<class '__main__.D'>: First, the method is searched in the class D.\\n<class '__main__.B'>: If not found, it moves to class B (the first parent class).\\n<class '__main__.C'>: If not found in B, it moves to C.\\n<class '__main__.A'>: Finally, it checks class A (the base class for both B and C).\\n<class 'object'>: If the method is not found in any of the user-defined classes, Python checks the base object class, which is the root class for all Python classes.\""
            ],
            "application/vnd.google.colaboratory.intrinsic+json": {
              "type": "string"
            }
          },
          "metadata": {},
          "execution_count": 8
        }
      ]
    },
    {
      "cell_type": "code",
      "source": [
        "# QUESTION 8\n",
        "# Create an abstract base class `Shape` with an abstract method `area()`. Then create two subclasses `Circle` and `Rectangle` that implement the `area()` method.\n",
        "\n",
        "'''\n",
        "Here’s how you can create an abstract base class Shape with an abstract method area(), and then implement the method in two subclasses, Circle and Rectangle:\n",
        "\n",
        "'''\n",
        "from abc import ABC, abstractmethod\n",
        "import math\n",
        "\n",
        "# Abstract base class\n",
        "class Shape(ABC):\n",
        "\n",
        "    @abstractmethod\n",
        "    def area(self):\n",
        "        pass\n",
        "\n",
        "# Subclass for Circle\n",
        "class Circle(Shape):\n",
        "    def __init__(self, radius):\n",
        "        self.radius = radius\n",
        "\n",
        "    def area(self):\n",
        "        return math.pi * self.radius ** 2\n",
        "\n",
        "# Subclass for Rectangle\n",
        "class Rectangle(Shape):\n",
        "    def __init__(self, width, height):\n",
        "        self.width = width\n",
        "        self.height = height\n",
        "\n",
        "    def area(self):\n",
        "        return self.width * self.height\n",
        "\n",
        "# Creating objects of Circle and Rectangle and calculating their areas\n",
        "circle = Circle(5)\n",
        "rectangle = Rectangle(4, 6)\n",
        "\n",
        "print(f\"Area of Circle: {circle.area():.2f}\")  # Output: Area of Circle: 78.54\n",
        "print(f\"Area of Rectangle: {rectangle.area()}\")  # Output: Area of Rectangle: 24\n",
        "\n"
      ],
      "metadata": {
        "colab": {
          "base_uri": "https://localhost:8080/"
        },
        "id": "4LrEIeUL8x_C",
        "outputId": "db8e4aff-35eb-4bc5-be53-a8e1a536d1a1"
      },
      "execution_count": 9,
      "outputs": [
        {
          "output_type": "stream",
          "name": "stdout",
          "text": [
            "Area of Circle: 78.54\n",
            "Area of Rectangle: 24\n"
          ]
        }
      ]
    },
    {
      "cell_type": "code",
      "source": [
        "# QUESTION 9\n",
        "#  Demonstrate polymorphism by creating a function that can work with different shape objects to calculate and print their areas.\n",
        "'''\n",
        "Polymorphism allows the same function to work with different object types, and in the context of object-oriented programming, this means that a single function can call the area() method on different shape objects (e.g., Circle and Rectangle).\n",
        "\n",
        "Here’s an example that demonstrates polymorphism by creating a function that works with different shape objects to calculate and print their areas:\n",
        "\n",
        "'''\n",
        "from abc import ABC, abstractmethod\n",
        "import math\n",
        "\n",
        "# Abstract base class\n",
        "class Shape(ABC):\n",
        "\n",
        "    @abstractmethod\n",
        "    def area(self):\n",
        "        pass\n",
        "\n",
        "# Subclass for Circle\n",
        "class Circle(Shape):\n",
        "    def __init__(self, radius):\n",
        "        self.radius = radius\n",
        "\n",
        "    def area(self):\n",
        "        return math.pi * self.radius ** 2\n",
        "\n",
        "# Subclass for Rectangle\n",
        "class Rectangle(Shape):\n",
        "    def __init__(self, width, height):\n",
        "        self.width = width\n",
        "        self.height = height\n",
        "\n",
        "    def area(self):\n",
        "        return self.width * self.height\n",
        "\n",
        "# Function demonstrating polymorphism\n",
        "def print_area(shape: Shape):\n",
        "    print(f\"The area of the shape is: {shape.area():.2f}\")\n",
        "\n",
        "# Creating objects of Circle and Rectangle\n",
        "circle = Circle(5)\n",
        "rectangle = Rectangle(4, 6)\n",
        "\n",
        "# Using the polymorphic function\n",
        "print_area(circle)      # Output: The area of the shape is: 78.54\n",
        "print_area(rectangle)   # Output: The area of the shape is: 24.00"
      ],
      "metadata": {
        "colab": {
          "base_uri": "https://localhost:8080/"
        },
        "id": "IgmK-s6a9aYl",
        "outputId": "57c6234c-fd52-4b2d-f188-554eca407598"
      },
      "execution_count": 10,
      "outputs": [
        {
          "output_type": "stream",
          "name": "stdout",
          "text": [
            "The area of the shape is: 78.54\n",
            "The area of the shape is: 24.00\n"
          ]
        }
      ]
    },
    {
      "cell_type": "code",
      "source": [
        "# QUESTION 10\n",
        "# Implement encapsulation in a `BankAccount` class with private attributes for `balance` and `account_number`. Include methods for deposit, withdrawal, and balance inquiry.\n",
        "'''\n",
        "Encapsulation in Python is achieved by using private attributes and providing controlled access to them through public methods.\n",
        "Here’s how you can implement encapsulation in a BankAccount class, where the attributes balance and account_number are private,\n",
        "and methods are provided for deposit, withdrawal, and balance inquiry:\n",
        "'''\n",
        "\n",
        "class BankAccount:\n",
        "    def __init__(self, account_number, balance=0):\n",
        "        self.__account_number = account_number  # Private attribute for account number\n",
        "        self.__balance = balance                # Private attribute for balance\n",
        "\n",
        "    # Public method to deposit money\n",
        "    def deposit(self, amount):\n",
        "        if amount > 0:\n",
        "            self.__balance += amount\n",
        "            print(f\"Deposited {amount}. New balance is {self.__balance}.\")\n",
        "        else:\n",
        "            print(\"Deposit amount must be positive.\")\n",
        "\n",
        "    # Public method to withdraw money\n",
        "    def withdraw(self, amount):\n",
        "        if 0 < amount <= self.__balance:\n",
        "            self.__balance -= amount\n",
        "            print(f\"Withdrew {amount}. Remaining balance is {self.__balance}.\")\n",
        "        else:\n",
        "            print(\"Insufficient balance or invalid amount.\")\n",
        "\n",
        "    # Public method to inquire balance\n",
        "    def get_balance(self):\n",
        "        return self.__balance\n",
        "\n",
        "    # Public method to get account number\n",
        "    def get_account_number(self):\n",
        "        return self.__account_number\n",
        "\n",
        "# Creating an instance of BankAccount\n",
        "account = BankAccount(\"12345678\", 1000)\n",
        "\n",
        "# Performing some operations\n",
        "account.deposit(500)  # Output: Deposited 500. New balance is 1500.\n",
        "account.withdraw(300)  # Output: Withdrew 300. Remaining balance is 1200.\n",
        "print(f\"Current balance: {account.get_balance()}\")  # Output: Current balance: 1200\n",
        "\n",
        "# Accessing private attributes using methods\n",
        "print(f\"Account number: {account.get_account_number()}\")  # Output: Account number: 12345678\n"
      ],
      "metadata": {
        "colab": {
          "base_uri": "https://localhost:8080/"
        },
        "id": "gpGXCvID965O",
        "outputId": "df677529-907c-4205-b65d-93c3999e3073"
      },
      "execution_count": 11,
      "outputs": [
        {
          "output_type": "stream",
          "name": "stdout",
          "text": [
            "Deposited 500. New balance is 1500.\n",
            "Withdrew 300. Remaining balance is 1200.\n",
            "Current balance: 1200\n",
            "Account number: 12345678\n"
          ]
        }
      ]
    },
    {
      "cell_type": "code",
      "source": [
        "# QUESTION 11\n",
        "# Write a class that overrides the `__str__` and `__add__` magic methods. What will these methods allow you to do?\n",
        "'''\n",
        "In Python, magic methods (also known as dunder methods) allow you to define the behavior of objects in certain situations, such as when printing the object or using operators like +. The __str__ and __add__ magic methods are commonly overridden to customize the behavior of string representation and addition, respectively.\n",
        "\n",
        "What these methods do:\n",
        "__str__(): This method is called when the str() function or print() is used on an object. It should return a human-readable string representation of the object.\n",
        "__add__(): This method allows you to define custom behavior for the addition operator + when used between objects of the class.\n",
        "Example: Overriding __str__ and __add__\n",
        "'''\n",
        "class MyNumber:\n",
        "    def __init__(self, value):\n",
        "        self.value = value\n",
        "\n",
        "    # Overriding the __str__ method\n",
        "    def __str__(self):\n",
        "        return f\"MyNumber({self.value})\"\n",
        "\n",
        "    # Overriding the __add__ method\n",
        "    def __add__(self, other):\n",
        "        if isinstance(other, MyNumber):\n",
        "            return MyNumber(self.value + other.value)\n",
        "        return NotImplemented\n",
        "\n",
        "# Creating instances\n",
        "num1 = MyNumber(10)\n",
        "num2 = MyNumber(20)\n",
        "\n",
        "# Demonstrating __str__ method\n",
        "print(num1)  # Output: MyNumber(10)\n",
        "print(num2)  # Output: MyNumber(20)\n",
        "\n",
        "# Demonstrating __add__ method\n",
        "result = num1 + num2\n",
        "print(result)  # Output: MyNumber(30)\n",
        "\n"
      ],
      "metadata": {
        "colab": {
          "base_uri": "https://localhost:8080/"
        },
        "id": "SV_Uy02n-YNn",
        "outputId": "a9675bbf-26a4-4d69-f734-3c642b8fa1bf"
      },
      "execution_count": 12,
      "outputs": [
        {
          "output_type": "stream",
          "name": "stdout",
          "text": [
            "MyNumber(10)\n",
            "MyNumber(20)\n",
            "MyNumber(30)\n"
          ]
        }
      ]
    },
    {
      "cell_type": "code",
      "source": [
        "# QUESTION 12\n",
        "#  Create a decorator that measures and prints the execution time of a function.\n",
        "'''\n",
        "To create a decorator that measures and prints the execution time of a function, you can use Python's time module. Here’s a step-by-step guide and the complete implementation:\n",
        "\n",
        "Steps:\n",
        "Import Required Module: Import the time module to measure the execution time.\n",
        "Define the Decorator: Create a decorator function that wraps the target function.\n",
        "Measure Execution Time: Inside the wrapper function, record the start time, execute the target function, and then record the end time.\n",
        "Calculate and Print Execution Time: Compute the difference between the end and start times to get the execution duration.\n",
        "Example Implementation:\n",
        "'''\n",
        "import time\n",
        "\n",
        "def timing_decorator(func):\n",
        "    def wrapper(*args, **kwargs):\n",
        "        start_time = time.time()  # Record start time\n",
        "        result = func(*args, **kwargs)  # Call the target function\n",
        "        end_time = time.time()  # Record end time\n",
        "        execution_time = end_time - start_time  # Calculate execution time\n",
        "        print(f\"Execution time of {func.__name__}: {execution_time:.4f} seconds\")\n",
        "        return result\n",
        "    return wrapper\n",
        "\n",
        "# Example usage of the decorator\n",
        "\n",
        "@timing_decorator\n",
        "def example_function(n):\n",
        "    total = 0\n",
        "    for i in range(n):\n",
        "        total += i\n",
        "    return total\n",
        "\n",
        "# Call the decorated function\n",
        "result = example_function(1000000)  # Output will include execution time\n",
        "print(f\"Result: {result}\")"
      ],
      "metadata": {
        "colab": {
          "base_uri": "https://localhost:8080/"
        },
        "id": "1iF14vzQ-1SC",
        "outputId": "53703555-7e86-4fce-91b7-b03d0b012726"
      },
      "execution_count": 13,
      "outputs": [
        {
          "output_type": "stream",
          "name": "stdout",
          "text": [
            "Execution time of example_function: 0.1415 seconds\n",
            "Result: 499999500000\n"
          ]
        }
      ]
    },
    {
      "cell_type": "code",
      "source": [
        "# QUESTION 13\n",
        "#  Explain the concept of the Diamond Problem in multiple inheritance. How does Python resolve it?\n",
        "'''\n",
        "The Diamond Problem arises in multiple inheritance when a class inherits from two or more classes that have a common base class. This creates ambiguity because it's unclear which version of the inherited methods or attributes should be used from the base class.\n",
        "\n",
        "Diamond Problem Example:\n",
        "'''\n",
        "class A:\n",
        "    def show(self):\n",
        "        print(\"Class A\")\n",
        "\n",
        "class B(A):\n",
        "    def show(self):\n",
        "        print(\"Class B\")\n",
        "\n",
        "class C(A):\n",
        "    def show(self):\n",
        "        print(\"Class C\")\n",
        "\n",
        "class D(B, C):  # Multiple inheritance\n",
        "    pass\n",
        "\n",
        "d = D()\n",
        "d.show()  # Which 'show' method should be called? B's, C's, or A's?\n",
        "\n",
        "#In the above example:\n",
        "'''\n",
        "Class D inherits from both B and C, which in turn inherit from A.\n",
        "When calling d.show(), Python must decide whether to use the show() method from B, C, or A.\n",
        "Python's Resolution: Method Resolution Order (MRO)\n",
        "Python resolves the Diamond Problem using the C3 Linearization Algorithm (also called Method Resolution Order, or MRO). This algorithm ensures a consistent order in which classes are checked when searching for a method.\n",
        "\n",
        "In the example above, the MRO determines the order in which Python looks for methods, which is [D, B, C, A]. Python will first look in D, then B, then C, and finally in A. You can retrieve the MRO using:\n",
        "'''\n",
        "print(D.mro())"
      ],
      "metadata": {
        "colab": {
          "base_uri": "https://localhost:8080/"
        },
        "id": "Zm-0MG-i_I5H",
        "outputId": "9d2eb095-77bc-4263-d898-579043b70c43"
      },
      "execution_count": 14,
      "outputs": [
        {
          "output_type": "stream",
          "name": "stdout",
          "text": [
            "Class B\n",
            "[<class '__main__.D'>, <class '__main__.B'>, <class '__main__.C'>, <class '__main__.A'>, <class 'object'>]\n"
          ]
        }
      ]
    },
    {
      "cell_type": "code",
      "source": [
        "# QUESTION 14\n",
        "# Write a class method that keeps track of the number of instances created from a class.\n",
        "'''\n",
        "To keep track of the number of instances created from a class, you can use a class method along with a class attribute to count instances. Here's how you can implement it:\n",
        "\n",
        "Implementation\n",
        "Class Attribute: Use a class attribute to store the count of instances.\n",
        "Class Method: Create a class method to access and update the instance count.\n",
        "Here’s a complete example:\n",
        "'''\n",
        "\n",
        "class InstanceCounter:\n",
        "    # Class attribute to keep track of the number of instances\n",
        "    instance_count = 0\n",
        "\n",
        "    def __init__(self):\n",
        "        # Increment the count each time a new instance is created\n",
        "        InstanceCounter.instance_count += 1\n",
        "\n",
        "    @classmethod\n",
        "    def get_instance_count(cls):\n",
        "        # Class method to return the current instance count\n",
        "        return cls.instance_count\n",
        "\n",
        "# Creating instances\n",
        "obj1 = InstanceCounter()\n",
        "obj2 = InstanceCounter()\n",
        "obj3 = InstanceCounter()\n",
        "\n",
        "# Getting the number of instances created\n",
        "print(f\"Number of instances created: {InstanceCounter.get_instance_count()}\")\n"
      ],
      "metadata": {
        "colab": {
          "base_uri": "https://localhost:8080/"
        },
        "id": "YV_F7uEi_1GI",
        "outputId": "6fbee77f-f889-4884-e3bd-7589e5ebe68f"
      },
      "execution_count": 15,
      "outputs": [
        {
          "output_type": "stream",
          "name": "stdout",
          "text": [
            "Number of instances created: 3\n"
          ]
        }
      ]
    },
    {
      "cell_type": "code",
      "source": [
        "# QUESTION 15\n",
        "#  Implement a static method in a class that checks if a given year is a leap year\n",
        "'''\n",
        "A static method in a class is a method that doesn’t depend on the instance or class state. It can be called on the class itself or on an instance. To implement a static method that checks if a given year is a leap year, you can use the following approach:\n",
        "\n",
        "Definition of Leap Year\n",
        "A year is considered a leap year if:\n",
        "\n",
        "It is divisible by 4.\n",
        "However, if it is also divisible by 100, it must be divisible by 400 to be considered a leap year.\n",
        "Implementation\n",
        "Here’s how you can implement a static method in a class to check for a leap year:\n",
        "'''\n",
        "class YearUtils:\n",
        "\n",
        "    @staticmethod\n",
        "    def is_leap_year(year):\n",
        "        \"\"\"\n",
        "        Static method to check if a given year is a leap year.\n",
        "\n",
        "        :param year: int - The year to check\n",
        "        :return: bool - True if the year is a leap year, False otherwise\n",
        "        \"\"\"\n",
        "        if (year % 4 == 0 and year % 100 != 0) or (year % 400 == 0):\n",
        "            return True\n",
        "        return False\n",
        "\n",
        "# Example usage\n",
        "print(YearUtils.is_leap_year(2020))  # Output: True\n",
        "print(YearUtils.is_leap_year(1900))  # Output: False\n",
        "print(YearUtils.is_leap_year(2000))  # Output: True"
      ],
      "metadata": {
        "colab": {
          "base_uri": "https://localhost:8080/"
        },
        "id": "GGAF-ZqJALJp",
        "outputId": "0dea87cb-1952-48bc-99cf-f59b2e7fc217"
      },
      "execution_count": 16,
      "outputs": [
        {
          "output_type": "stream",
          "name": "stdout",
          "text": [
            "True\n",
            "False\n",
            "True\n"
          ]
        }
      ]
    },
    {
      "cell_type": "code",
      "source": [],
      "metadata": {
        "id": "XtOsGwhxAlzk"
      },
      "execution_count": null,
      "outputs": []
    }
  ]
}